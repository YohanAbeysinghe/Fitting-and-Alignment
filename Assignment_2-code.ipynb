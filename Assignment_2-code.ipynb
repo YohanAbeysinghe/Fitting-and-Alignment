{
 "cells": [
  {
   "cell_type": "markdown",
   "metadata": {},
   "source": [
    "**<h3><center>EN2550 Assignment 2-Fitting and Alignment</center></h3>**\n",
    "*Name - Abeysinghe W.A.M.S.Y*\n",
    "<br>\n",
    "*Index no - 190014F*\n",
    "<br>"
   ]
  },
  {
   "cell_type": "markdown",
   "metadata": {},
   "source": [
    "All the imports are done at the beginning. "
   ]
  },
  {
   "cell_type": "code",
   "execution_count": 1,
   "metadata": {},
   "outputs": [],
   "source": [
    "import numpy as np\n",
    "import cv2 as cv\n",
    "from scipy.optimize import minimize\n",
    "from scipy import linalg\n",
    "import matplotlib.pyplot as plt\n",
    "import circle_fit as cf"
   ]
  },
  {
   "cell_type": "markdown",
   "metadata": {},
   "source": [
    "**Q1**. The code snippet in Listing 1 shows the code to generate a noisy point set X amounting to a circle and the\n",
    "code to estimate a circle—center and the radius—from a set of inliers in X."
   ]
  },
  {
   "cell_type": "code",
   "execution_count": 2,
   "metadata": {},
   "outputs": [
    {
     "data": {
      "image/png": "[encoded data removed]",
      "text/plain": [
       "<Figure size 720x720 with 1 Axes>"
      ]
     },
     "metadata": {
      "needs_background": "light"
     },
     "output_type": "display_data"
    }
   ],
   "source": [
    "np.random.seed(0)\n",
    "N = 100\n",
    "half_n = N//2\n",
    "r = 10\n",
    "s = r/16\n",
    "t = np.random.uniform(0, 2*np.pi, half_n)\n",
    "n = s*np.random.randn(half_n)\n",
    "x, y = (r + n)*np.cos(t), (r + n)*np.sin(t)\n",
    "X_circ = np.hstack((x.reshape(half_n , 1) ,y.reshape(half_n, 1 ) ) )\n",
    "m, b = -1, 2\n",
    "x = np.linspace(-12, 12, half_n)\n",
    "y = m*x + b + s*np.random.randn(half_n)\n",
    "X_line = np.hstack((x.reshape(half_n, 1), y.reshape(half_n, 1)))\n",
    "X = np.vstack((X_circ, X_line))\n",
    "\n",
    "fig, ax = plt.subplots(1, 1, figsize=(10,10))\n",
    "ax.plot(X_circ[:,0], X_circ[:,1], 'ro')\n",
    "ax.plot(X_line[:,0], X_line[:,1], 'ro')\n",
    "\n",
    "plt.show()"
   ]
  },
  {
   "cell_type": "markdown",
   "metadata": {},
   "source": [
    "(a) Estimate the circle using the RNASAC algorithm"
   ]
  },
  {
   "cell_type": "code",
   "execution_count": 3,
   "metadata": {},
   "outputs": [],
   "source": [
    "#Getting the circle given three points that it should lie on.\n",
    "\n",
    "def circ_through_points(x1, x2, x3):\n",
    "    denominator_1 = ( (x1[0] - x2[0]) * (x2[1] - x3[1]) - (x2[1] - x1[1]) * (x3[0] - x2[0]) )\n",
    "    denominator_2 = ( (x1[0] - x2[0]) * (x2[1] - x3[1]) - (x2[1] - x1[1]) * (x3[0] - x2[0]) )\n",
    "\n",
    "    if denominator_1 != 0 and denominator_2 != 0:\n",
    "        a = 0.5 * ( (x2[1] - x3[1]) * (x1[0]**2 + x1[1]**2 - x2[0]**2 - x2[1]**2) + (x2[1] - x1[1]) * (x2[0]**2 + x2[1]**2 - x3[0]**2 - x3[1]**2) ) / denominator_1\n",
    "        b = 0.5 * ( (x1[0] - x2[0]) * (x2[0]**2 + x2[1]**2 - x3[0]**2 - x3[1]**2) + (x3[0] - x2[0]) * (x1[0]**2 + x1[1]**2 - x2[0]**2 - x2[1]**2) ) / denominator_2\n",
    "        c = -x3[0]**2 - x3[1]**2 + 2*a*x3[0] + 2*b*x3[1]\n",
    "\n",
    "        r = np.sqrt(a**2 + b**2 - c)\n",
    "    else:\n",
    "        a,b,r = None, None, None\n",
    "\n",
    "    return a, b, r"
   ]
  },
  {
   "cell_type": "code",
   "execution_count": 4,
   "metadata": {},
   "outputs": [],
   "source": [
    "#Calculating the inliers when T, the threshold is given\n",
    "\n",
    "def get_inlier(a, b, r, X, T):\n",
    "    count = 0\n",
    "    best_fit_inliers = None\n",
    "\n",
    "    for i in range(X.shape[0]):\n",
    "        distance = abs( ( (X[i,0] - a)**2 + (X[i,1] - b)**2 ) ** 0.5 - r )\n",
    "\n",
    "        if distance < T:\n",
    "            count += 1\n",
    "\n",
    "            if type(best_fit_inliers) == type(None):\n",
    "                best_fit_inliers = np.array([X[i,:]])\n",
    "            else:\n",
    "                best_fit_inliers = np.concatenate((best_fit_inliers, X[i,:].reshape(1, -1)), axis=0)\n",
    "    \n",
    "    return count, best_fit_inliers"
   ]
  },
  {
   "cell_type": "code",
   "execution_count": 5,
   "metadata": {},
   "outputs": [],
   "source": [
    "def RANSAC(X): \n",
    "    S = 3\n",
    "    T = 1.96\n",
    "    D = 50\n",
    "    N = 35\n",
    "\n",
    "    best_fit_circle = None\n",
    "    best_fit_x = None\n",
    "    best_inlier_count = 0\n",
    "\n",
    "    for _ in range(N):\n",
    "        x = []\n",
    "\n",
    "        for i in range(S):\n",
    "            hold = X[np.random.randint(0, 100), :]\n",
    "            \n",
    "            if len(x) == 0:\n",
    "                x.append(hold)\n",
    "            elif np.array_equal(hold, x[-1]):                \n",
    "                while np.array_equal(hold, x[-1]):\n",
    "                    hold = X[np.random.randint(0, 100), :]\n",
    "                \n",
    "                x.append(hold)\n",
    "            else:\n",
    "                x.append(hold)\n",
    "        \n",
    "        a, b, r = circ_through_points(x[0], x[1], x[2])\n",
    "\n",
    "        if a == None:\n",
    "            continue\n",
    "\n",
    "        count, inliers = get_inlier(a, b, r, X, T)\n",
    "\n",
    "        if count > best_inlier_count:\n",
    "            best_fit_circle = plt.Circle((a, b), r, color='b', fill=False, label=\"Best Sample\")\n",
    "            best_fit_x = x\n",
    "            best_fit_inliers = inliers\n",
    "            best_inlier_count = count\n",
    "    \n",
    "    if best_inlier_count < D:\n",
    "        print(\"The RANSAC algorithm did not find a suitable model\")\n",
    "        return None, None, None, None\n",
    "\n",
    "    xc,yc,r,_ = cf.least_squares_circle(best_fit_inliers)\n",
    "\n",
    "    ransac_circle = plt.Circle((xc, yc), r, color='m', fill=False, label=\"RANSAC\")\n",
    "    \n",
    "    return ransac_circle, best_fit_circle, best_fit_x, best_fit_inliers"
   ]
  },
  {
   "cell_type": "markdown",
   "metadata": {},
   "source": [
    "(b) Show in the same plot, the point set, the circle estimated from the sample leading to the best estimate,\n",
    "this sample of three points, inliers, and the best-fit circle. See Figure 1 for an example."
   ]
  },
  {
   "cell_type": "code",
   "execution_count": 6,
   "metadata": {},
   "outputs": [
    {
     "data": {
      "image/png": "[encoded data removed]",
      "text/plain": [
       "<Figure size 468x468 with 1 Axes>"
      ]
     },
     "metadata": {
      "needs_background": "light"
     },
     "output_type": "display_data"
    }
   ],
   "source": [
    "ransac_circle, best_fit_circle, x, inliers = RANSAC(X)\n",
    "\n",
    "\n",
    "if ransac_circle != None:\n",
    "    fig, ax = plt.subplots(1, 1, figsize=(6.5,6.5))\n",
    "    ax.scatter(X_circ[:,0], X_circ[:,1], color=\"#026f9e\")\n",
    "    ax.scatter(X_line[:,0], X_line[:,1], color=\"#026f9e\", label=\"Outliers\")\n",
    "\n",
    "    if type(inliers) != type(None):\n",
    "        for point in inliers:\n",
    "            if np.array_equal(point, inliers[-1]):\n",
    "                ax.plot(point[0], point[1], 'yo', label=\"Inliers\")\n",
    "            else:\n",
    "                ax.plot(point[0], point[1], 'yo')\n",
    "\n",
    "\n",
    "    for point in x:\n",
    "        if np.array_equal(point, x[-1]):\n",
    "            ax.plot(point[0], point[1], 'ro', label=\"Best Sample\")\n",
    "        else:\n",
    "            ax.plot(point[0], point[1], 'ro')\n",
    "\n",
    "    ax.add_patch(best_fit_circle)\n",
    "    ax.add_patch(ransac_circle)\n",
    "    ax.set_title(\"RANSAC plot\")\n",
    "    ax.legend(loc=\"upper right\")"
   ]
  },
  {
   "cell_type": "markdown",
   "metadata": {},
   "source": [
    "**Q2**. Figure 2 shows an architectural image1 with a flag 2 superimposed. This is done by clicking four points on a\n",
    "planar surface in the architectural image, computing a homography that maps the flag image to this plane,\n",
    "and warping the flag, and blending on to the architectural image. Carry this out for a couple of image pairs\n",
    "of you own choice. You may explain the (non-technical) rationale of your choice."
   ]
  },
  {
   "cell_type": "code",
   "execution_count": 7,
   "metadata": {},
   "outputs": [],
   "source": [
    "def mouse_clicks(event, x, y, flags, params):\n",
    "    global coordinates\n",
    "    global count\n",
    "    global first_image\n",
    "\n",
    "    if event == cv.EVENT_LBUTTONDOWN:\n",
    "        coordinates.append([x, y])\n",
    "        count += 1\n",
    "\n",
    "        first_image = cv.circle(first_image, (x,y), 2, (0, 0, 1), -1)\n",
    "        cv.imshow(\"Image\", first_image)        \n",
    "    \n",
    "    if count == 4:\n",
    "        cv.destroyAllWindows()\n",
    "        cv.waitKey(1)"
   ]
  },
  {
   "cell_type": "code",
   "execution_count": 8,
   "metadata": {},
   "outputs": [],
   "source": [
    "image_1 = cv.imread(r\"school.jpg\")\n",
    "image_2 = cv.imread(r\"Maliyadeva_flag.png\")\n",
    "\n",
    "\n",
    "image_1 = image_1.astype(np.float64) / np.iinfo(image_1.dtype).max\n",
    "\n",
    "image_2 = image_2.astype(np.float64) / np.iinfo(image_2.dtype).max\n",
    "\n",
    "first_image = np.copy(image_1)\n",
    "\n",
    "coordinates = []\n",
    "count = 0\n",
    "\n",
    "cv.imshow(\"Image\", image_1)\n",
    "cv.setMouseCallback(\"Image\", mouse_clicks)\n",
    "cv.waitKey(0)\n",
    "\n",
    "cv.destroyAllWindows()\n",
    "\n",
    "# Input parameters\n",
    "X = np.array([[0, 0, 1],[image_2.shape[1], 0, 1],[image_2.shape[1], image_2.shape[0], 1],[0, image_2.shape[0], 1]]).T\n",
    "\n",
    "Y = np.array([[coordinates[0][0], coordinates[0][1], 1],[coordinates[1][0], coordinates[1][1], 1],[coordinates[2][0], coordinates[2][1], 1],[coordinates[3][0], coordinates[3][1], 1],]).T\n",
    "\n",
    "O = np.array([[0],[0],[0]])\n",
    "\n",
    "A = []\n",
    "\n",
    "for i in range(4):\n",
    "    A.append(np.concatenate((O.T, np.expand_dims(X.T[i,:], axis=0), np.expand_dims(-1*Y[1, i]*X.T[i,:], axis=0) ), axis=1))\n",
    "    A.append(np.concatenate((np.expand_dims(X.T[i,:], axis=0), O.T, np.expand_dims(-1*Y[0, i]*X.T[i,:], axis=0) ), axis=1))\n",
    "\n",
    "A = np.array(A).squeeze().astype(np.float64)\n",
    "\n",
    "eigen_values, eigen_vectors = np.linalg.eig(A.T @ A)\n",
    "H = eigen_vectors[:, np.argmin(eigen_values)]\n",
    "H = H.reshape(3, -1)\n",
    "\n",
    "t_image_2 = cv.warpPerspective(image_2, H, (image_1.shape[1], image_1.shape[0]))\n",
    "\n",
    "beta = 0.5\n",
    "blended_img = cv.addWeighted(image_1, 1, t_image_2, beta, 0.0)\n",
    "blended_img[blended_img > 1] = 1\n",
    "\n",
    "first_image_rgb = cv.cvtColor(first_image.astype(np.float32), cv.COLOR_BGR2RGB) \n",
    "image_2_rgb = cv.cvtColor(image_2.astype(np.float32), cv.COLOR_BGR2RGB)\n",
    "blended_img_rgb = cv.cvtColor(blended_img.astype(np.float32), cv.COLOR_BGR2RGB)\n",
    "\n",
    "fig, ax = plt.subplots(1, 3, figsize=(20, 10))\n",
    "ax[0].imshow(first_image_rgb)\n",
    "ax[1].imshow(image_2_rgb)\n",
    "ax[2].imshow(blended_img_rgb)\n",
    "\n",
    "ax[0].set_title(\"Image 1\")\n",
    "ax[1].set_title(\"Image 2\")\n",
    "ax[2].set_title(\"Final Image\")\n",
    "\n",
    "ax[0].axis(\"off\")\n",
    "ax[1].axis(\"off\")\n",
    "ax[2].axis(\"off\")\n",
    "\n",
    "plt.show()"
   ]
  }
 ],
 "metadata": {
  "interpreter": {
   "hash": "f5ca2acd7cfffe1ba430de162f968a242c109575471a8c149f67da86ddb07b1e"
  },
  "kernelspec": {
   "display_name": "Python 3.10.2 64-bit (system)",
   "language": "python",
   "name": "python3"
  },
  "language_info": {
   "codemirror_mode": {
    "name": "ipython",
    "version": 3
   },
   "file_extension": ".py",
   "mimetype": "text/x-python",
   "name": "python",
   "nbconvert_exporter": "python",
   "pygments_lexer": "ipython3",
   "version": "3.10.2"
  },
  "orig_nbformat": 4
 },
 "nbformat": 4,
 "nbformat_minor": 2
}
