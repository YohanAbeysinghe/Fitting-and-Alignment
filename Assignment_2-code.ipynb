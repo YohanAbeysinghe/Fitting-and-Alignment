{
 "cells": [
  {
   "cell_type": "markdown",
   "metadata": {},
   "source": [
    "**<h3><center>EN2550 Assignment 2-Fitting and Alignment</center></h3>**\n",
    "*Name - Abeysinghe W.A.M.S.Y*\n",
    "<br>\n",
    "*Index no - 190014F*\n",
    "<br>"
   ]
  },
  {
   "cell_type": "markdown",
   "metadata": {},
   "source": [
    "All the imports are done at the beginning. "
   ]
  },
  {
   "cell_type": "code",
   "execution_count": 2,
   "metadata": {},
   "outputs": [],
   "source": [
    "import numpy as np\n",
    "import cv2 as cv\n",
    "from scipy.optimize import minimize\n",
    "from scipy import linalg\n",
    "import matplotlib.pyplot as plt\n",
    "import circle_fit as cf"
   ]
  },
  {
   "cell_type": "markdown",
   "metadata": {},
   "source": [
    "**Q1**. The code snippet in Listing 1 shows the code to generate a noisy point set X amounting to a circle and the\n",
    "code to estimate a circle—center and the radius—from a set of inliers in X."
   ]
  },
  {
   "cell_type": "code",
   "execution_count": 5,
   "metadata": {},
   "outputs": [
    {
     "data": {
      "image/png": "[encoded data removed]",
      "text/plain": [
       "<Figure size 720x720 with 1 Axes>"
      ]
     },
     "metadata": {
      "needs_background": "light"
     },
     "output_type": "display_data"
    }
   ],
   "source": [
    "np.random.seed(0)\n",
    "N = 100\n",
    "half_n = N//2\n",
    "r = 10\n",
    "s = r/16\n",
    "t = np.random.uniform(0, 2*np.pi, half_n)\n",
    "n = s*np.random.randn(half_n)\n",
    "x, y = (r + n)*np.cos(t), (r + n)*np.sin(t)\n",
    "X_circ = np.hstack((x.reshape(half_n , 1) ,y.reshape(half_n, 1 ) ) )\n",
    "m, b = -1, 2\n",
    "x = np.linspace(-12, 12, half_n)\n",
    "y = m*x + b + s*np.random.randn(half_n)\n",
    "X_line = np.hstack((x.reshape(half_n, 1), y.reshape(half_n, 1)))\n",
    "X = np.vstack((X_circ, X_line))\n",
    "\n",
    "fig, ax = plt.subplots(1, 1, figsize=(10,10))\n",
    "ax.plot(X_circ[:,0], X_circ[:,1], 'ro')\n",
    "ax.plot(X_line[:,0], X_line[:,1], 'ro')\n",
    "\n",
    "plt.show()"
   ]
  },
  {
   "cell_type": "markdown",
   "metadata": {},
   "source": [
    "(a) Estimate the circle using the RNASAC algorithm"
   ]
  },
  {
   "cell_type": "code",
   "execution_count": 6,
   "metadata": {},
   "outputs": [],
   "source": [
    "def estimate_circle(x1, x2, x3):\n",
    "    denominator_1 = ( (x1[0] - x2[0]) * (x2[1] - x3[1]) - (x2[1] - x1[1]) * (x3[0] - x2[0]) )\n",
    "    denominator_2 = ( (x1[0] - x2[0]) * (x2[1] - x3[1]) - (x2[1] - x1[1]) * (x3[0] - x2[0]) )\n",
    "\n",
    "    if denominator_1 != 0 and denominator_2 != 0:\n",
    "        a = 0.5 * ( (x2[1] - x3[1]) * (x1[0]**2 + x1[1]**2 - x2[0]**2 - x2[1]**2) + (x2[1] - x1[1]) * (x2[0]**2 + x2[1]**2 - x3[0]**2 - x3[1]**2) ) / denominator_1\n",
    "        b = 0.5 * ( (x1[0] - x2[0]) * (x2[0]**2 + x2[1]**2 - x3[0]**2 - x3[1]**2) + (x3[0] - x2[0]) * (x1[0]**2 + x1[1]**2 - x2[0]**2 - x2[1]**2) ) / denominator_2\n",
    "        c = -x3[0]**2 - x3[1]**2 + 2*a*x3[0] + 2*b*x3[1]\n",
    "\n",
    "        r = np.sqrt(a**2 + b**2 - c)\n",
    "    else:\n",
    "        a,b,r = None, None, None\n",
    "\n",
    "    return a, b, r"
   ]
  }
 ],
 "metadata": {
  "interpreter": {
   "hash": "f5ca2acd7cfffe1ba430de162f968a242c109575471a8c149f67da86ddb07b1e"
  },
  "kernelspec": {
   "display_name": "Python 3.10.2 64-bit (system)",
   "language": "python",
   "name": "python3"
  },
  "language_info": {
   "codemirror_mode": {
    "name": "ipython",
    "version": 3
   },
   "file_extension": ".py",
   "mimetype": "text/x-python",
   "name": "python",
   "nbconvert_exporter": "python",
   "pygments_lexer": "ipython3",
   "version": "3.10.2"
  },
  "orig_nbformat": 4
 },
 "nbformat": 4,
 "nbformat_minor": 2
}
